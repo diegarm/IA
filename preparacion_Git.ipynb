{
  "nbformat": 4,
  "nbformat_minor": 0,
  "metadata": {
    "colab": {
      "provenance": []
    },
    "kernelspec": {
      "name": "python3",
      "display_name": "Python 3"
    },
    "language_info": {
      "name": "python"
    }
  },
  "cells": [
    {
      "cell_type": "code",
      "execution_count": null,
      "metadata": {
        "colab": {
          "base_uri": "https://localhost:8080/"
        },
        "id": "Ty2t3GqNnvEo",
        "outputId": "750d8f9f-bf04-4c36-dec7-2b32114ec27a"
      },
      "outputs": [
        {
          "output_type": "stream",
          "name": "stdout",
          "text": [
            "Mounted at /content/drive\n",
            "Generating public/private rsa key pair.\n",
            "/content/drive/MyDrive/id_rsa already exists.\n",
            "Overwrite (y/n)? Y\n",
            "Your identification has been saved in /content/drive/MyDrive/id_rsa\n",
            "Your public key has been saved in /content/drive/MyDrive/id_rsa.pub\n",
            "The key fingerprint is:\n",
            "SHA256:dJaqkZsTLkcwKq8/RV2gDBKc5+49Nqw1eKi9ChD5wU4 tuemail@unir.edu\n",
            "The key's randomart image is:\n",
            "+---[RSA 4096]----+\n",
            "|+.o   ..         |\n",
            "| * + .  .  .     |\n",
            "|o E =. .. +      |\n",
            "| = +.o.o +       |\n",
            "|o =.  = S        |\n",
            "|.o .+o *         |\n",
            "|. o+++B          |\n",
            "|..+.oO..         |\n",
            "|.+o=+ o          |\n",
            "+----[SHA256]-----+\n",
            "Copia la siguiente información para crear tu acceso SSH desde gitHub\n",
            "ssh-rsa AAAAB3NzaC1yc2EAAAADAQABAAACAQDJlIzwWH9+aXNnRLqXJoHKaqWul+UuRsMM11O9EyKEaefCW/R0cEt2237oSBlyEglQfnzDwoS0FvvU+swJ/Nd5h7HPicpJKxpc8DjFPahoPSnneF7rvz70DX9/AD2wz60ZQJ1xlCQL79vDVANkkpsolJ19+Ul1He8HNg2LxLq11bH13UV5BpF2jZp3nlP++WANNGZPDnP7WnNx9bsGT4qrS7W+VZLjZlFEphrB+xgG5n5DErsA9/47jDtcsB0p/RhdEGReqk49vejcVPb8QpLBuLvsaaCgnkKqfDcPC5I6qBjG0RmMg+cIInkMS5d+HUwJfk3hiJ4jXvVp1QDkGC7EGIrFvHc2P2PcFtjkPn+nYdWWvBHH2Ivx87a+jXNvXWHAIzCzj9sCL8NTU2mTKlcEjSdiCUwtzoBjEoqYxJDOIRLclsh8Y5+0YOz+nLV7yJdtFYB1vom1gAqhcywbQOSGl4mcOqvmK865773APQ6YnKKipyTT+wCpZvQ14o2YdK9QAEwTu6g147WySjU+xJorgJ6himPkVJ9M/ULfq/Zi4stYvu4djcoJF33tBZ0Yw5lAUubazRbxKDzHgf+RvLxpIHbwD3/1N4F5sLltfRHACC+GVBHcS0GQ4NVLFq7C5M7z0MmsdZYN/psLbELsKYQPn+3tIywiXAi0FYCEXzItyw== tuemail@unir.edu\n"
          ]
        }
      ],
      "source": [
        "# Montar Google Drive en Colab\n",
        "from google.colab import drive\n",
        "drive.mount('/content/drive')\n",
        "\n",
        "!ssh-keygen -t rsa -b 4096 -C \"tuemail@unir.edu\" -f /content/drive/MyDrive/id_rsa -N \"\"\n",
        "print(\"Copia la siguiente información para crear tu acceso SSH desde gitHub\")\n",
        "!cat /content/drive/MyDrive/id_rsa.pub"
      ]
    },
    {
      "cell_type": "code",
      "source": [
        "import subprocess\n",
        "import os\n",
        "# Create .ssh directory if it doesn't exist\n",
        "os.makedirs(os.path.expanduser('~/.ssh'), exist_ok=True)\n",
        "\n",
        "# Create known_hosts file if it doesn't exist\n",
        "known_hosts_path = os.path.expanduser('~/.ssh/known_hosts')\n",
        "if not os.path.exists(known_hosts_path):\n",
        "    open(known_hosts_path, 'a').close()  # Create an empty known_hosts file\n",
        "\n",
        "!ssh-keyscan -t rsa github.com >> ~/.ssh/known_hosts\n",
        "\n",
        "# Step 1: Start the SSH agent\n",
        "def start_ssh_agent():\n",
        "    # Start the SSH agent\n",
        "    process = subprocess.Popen(['ssh-agent'], stdout=subprocess.PIPE)\n",
        "    output, _ = process.communicate()\n",
        "\n",
        "    # Set environment variables for the current session\n",
        "    for line in output.decode().strip().split('\\n'):\n",
        "        if 'SSH_AUTH_SOCK' in line or 'SSH_AGENT_PID' in line:\n",
        "            key, value = line.split(';')[0].strip().split('=')\n",
        "            os.environ[key] = value\n",
        "\n",
        "# Step 2: Add your private key from Google Drive\n",
        "def add_private_key(key_path):\n",
        "    # Add the private key to the SSH agent\n",
        "    result = subprocess.run(['ssh-add', key_path], capture_output=True, text=True)\n",
        "    if result.returncode == 0:\n",
        "        print(\"SSH key added successfully.\")\n",
        "    else:\n",
        "        print(\"Error adding SSH key:\")\n",
        "        print(result.stderr)\n",
        "\n",
        "# Execute the functions\n",
        "start_ssh_agent()\n",
        "\n",
        "# Path to your private key in Google Drive\n",
        "private_key_path = '/content/drive/MyDrive/id_rsa'  # Adjust this path as necessary\n",
        "\n",
        "# Add the private key to the agent\n",
        "add_private_key(private_key_path)\n",
        "\n",
        "# Optional: Test SSH connection to GitHub\n",
        "print(\"Testing SSH connection to GitHub...\")\n",
        "test_connection = subprocess.run(['ssh', '-T', 'git@github.com'], capture_output=True, text=True)\n",
        "print(test_connection.stdout if test_connection.returncode == 0 else test_connection.stderr)"
      ],
      "metadata": {
        "id": "r83l_g4Mn-00"
      },
      "execution_count": null,
      "outputs": []
    }
  ]
}